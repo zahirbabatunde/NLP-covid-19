{
  "nbformat": 4,
  "nbformat_minor": 0,
  "metadata": {
    "kernelspec": {
      "display_name": "Python 3",
      "language": "python",
      "name": "python3"
    },
    "language_info": {
      "codemirror_mode": {
        "name": "ipython",
        "version": 3
      },
      "file_extension": ".py",
      "mimetype": "text/x-python",
      "name": "python",
      "nbconvert_exporter": "python",
      "pygments_lexer": "ipython3",
      "version": "3.6.7"
    },
    "colab": {
      "name": "Copy of FinalProjectstarter.ipynb",
      "provenance": [],
      "collapsed_sections": [],
      "toc_visible": true,
      "machine_shape": "hm"
    }
  },
  "cells": [
    {
      "cell_type": "markdown",
      "metadata": {
        "id": "bE4Bey9IRaUg"
      },
      "source": [
        "# Importing the essential libraries"
      ]
    },
    {
      "cell_type": "code",
      "metadata": {
        "id": "h0Amvfbrjc5e"
      },
      "source": [
        "#Import Libraries\n",
        "\n",
        "import csv\n",
        "import random\n",
        "import numpy as np\n",
        "import pandas as pd\n",
        "import re\n",
        "from collections import OrderedDict\n",
        "import matplotlib.pyplot as plt\n",
        "from sklearn.preprocessing import normalize\n",
        "import scipy.cluster.hierarchy as sch\n",
        "import nltk\n",
        "from nltk.corpus import stopwords\n",
        "from nltk.tokenize import word_tokenize\n",
        "from textblob import Word\n",
        "from sklearn.feature_extraction.text import TfidfVectorizer\n",
        "from sklearn.cluster import KMeans\n",
        "from sklearn.model_selection import GridSearchCV\n",
        "from sklearn.decomposition import LatentDirichletAllocation\n",
        "from sklearn.decomposition import PCA\n",
        "import warnings\n",
        "warnings.filterwarnings('ignore')\n",
        "%matplotlib inline"
      ],
      "execution_count": 3,
      "outputs": []
    },
    {
      "cell_type": "code",
      "metadata": {
        "id": "5w_u88etPzTz"
      },
      "source": [
        "%%capture\n",
        "nltk.download('wordnet')\n",
        "nltk.download('punkt')\n",
        "nltk.download('stopwords')"
      ],
      "execution_count": 4,
      "outputs": []
    },
    {
      "cell_type": "markdown",
      "metadata": {
        "id": "ixhL3_WTbY-B"
      },
      "source": [
        "This project will explore a dataset of scholarly articles to gather insight about the peculiarity of different coronavirus strains (`MERS-CoV`, `SARS-CoV-1`, and `SARS-CoV-2`) that are deadly to humans and the vaccines that have been developed to tackle the outbreak to better inform our healthcare system how to tackle the COVID-19 problem."
      ]
    },
    {
      "cell_type": "markdown",
      "metadata": {
        "id": "1P_yWz8AUZNJ"
      },
      "source": [
        "# PART 1: Data Cleaning.\n",
        "Reading in and cleaning the dataset for the analysis."
      ]
    },
    {
      "cell_type": "code",
      "metadata": {
        "id": "pmr1U1Ogjc5e",
        "colab": {
          "base_uri": "https://localhost:8080/",
          "height": 1000
        },
        "outputId": "0de2eb0d-b950-40ae-9434-8ac3c960acca"
      },
      "source": [
        "df = pd.read_csv('metadata.csv')\n",
        "df.info(verbose=True)\n",
        "df.head()"
      ],
      "execution_count": 6,
      "outputs": [
        {
          "output_type": "stream",
          "text": [
            "<class 'pandas.core.frame.DataFrame'>\n",
            "RangeIndex: 497906 entries, 0 to 497905\n",
            "Data columns (total 19 columns):\n",
            " #   Column            Non-Null Count   Dtype  \n",
            "---  ------            --------------   -----  \n",
            " 0   cord_uid          497906 non-null  object \n",
            " 1   sha               172105 non-null  object \n",
            " 2   source_x          497906 non-null  object \n",
            " 3   title             497674 non-null  object \n",
            " 4   doi               281753 non-null  object \n",
            " 5   pmcid             182522 non-null  object \n",
            " 6   pubmed_id         241936 non-null  object \n",
            " 7   license           497906 non-null  object \n",
            " 8   abstract          363064 non-null  object \n",
            " 9   publish_time      497687 non-null  object \n",
            " 10  authors           484020 non-null  object \n",
            " 11  journal           464755 non-null  object \n",
            " 12  mag_id            0 non-null       float64\n",
            " 13  who_covidence_id  197568 non-null  object \n",
            " 14  arxiv_id          6687 non-null    object \n",
            " 15  pdf_json_files    172105 non-null  object \n",
            " 16  pmc_json_files    139885 non-null  object \n",
            " 17  url               301950 non-null  object \n",
            " 18  s2_id             448905 non-null  float64\n",
            "dtypes: float64(2), object(17)\n",
            "memory usage: 72.2+ MB\n"
          ],
          "name": "stdout"
        },
        {
          "output_type": "execute_result",
          "data": {
            "text/html": [
              "<div>\n",
              "<style scoped>\n",
              "    .dataframe tbody tr th:only-of-type {\n",
              "        vertical-align: middle;\n",
              "    }\n",
              "\n",
              "    .dataframe tbody tr th {\n",
              "        vertical-align: top;\n",
              "    }\n",
              "\n",
              "    .dataframe thead th {\n",
              "        text-align: right;\n",
              "    }\n",
              "</style>\n",
              "<table border=\"1\" class=\"dataframe\">\n",
              "  <thead>\n",
              "    <tr style=\"text-align: right;\">\n",
              "      <th></th>\n",
              "      <th>cord_uid</th>\n",
              "      <th>sha</th>\n",
              "      <th>source_x</th>\n",
              "      <th>title</th>\n",
              "      <th>doi</th>\n",
              "      <th>pmcid</th>\n",
              "      <th>pubmed_id</th>\n",
              "      <th>license</th>\n",
              "      <th>abstract</th>\n",
              "      <th>publish_time</th>\n",
              "      <th>authors</th>\n",
              "      <th>journal</th>\n",
              "      <th>mag_id</th>\n",
              "      <th>who_covidence_id</th>\n",
              "      <th>arxiv_id</th>\n",
              "      <th>pdf_json_files</th>\n",
              "      <th>pmc_json_files</th>\n",
              "      <th>url</th>\n",
              "      <th>s2_id</th>\n",
              "    </tr>\n",
              "  </thead>\n",
              "  <tbody>\n",
              "    <tr>\n",
              "      <th>0</th>\n",
              "      <td>ug7v899j</td>\n",
              "      <td>d1aafb70c066a2068b02786f8929fd9c900897fb</td>\n",
              "      <td>PMC</td>\n",
              "      <td>Clinical features of culture-proven Mycoplasma...</td>\n",
              "      <td>10.1186/1471-2334-1-6</td>\n",
              "      <td>PMC35282</td>\n",
              "      <td>11472636</td>\n",
              "      <td>no-cc</td>\n",
              "      <td>OBJECTIVE: This retrospective chart review des...</td>\n",
              "      <td>2001-07-04</td>\n",
              "      <td>Madani, Tariq A; Al-Ghamdi, Aisha A</td>\n",
              "      <td>BMC Infect Dis</td>\n",
              "      <td>NaN</td>\n",
              "      <td>NaN</td>\n",
              "      <td>NaN</td>\n",
              "      <td>document_parses/pdf_json/d1aafb70c066a2068b027...</td>\n",
              "      <td>document_parses/pmc_json/PMC35282.xml.json</td>\n",
              "      <td>https://www.ncbi.nlm.nih.gov/pmc/articles/PMC3...</td>\n",
              "      <td>NaN</td>\n",
              "    </tr>\n",
              "    <tr>\n",
              "      <th>1</th>\n",
              "      <td>02tnwd4m</td>\n",
              "      <td>6b0567729c2143a66d737eb0a2f63f2dce2e5a7d</td>\n",
              "      <td>PMC</td>\n",
              "      <td>Nitric oxide: a pro-inflammatory mediator in l...</td>\n",
              "      <td>10.1186/rr14</td>\n",
              "      <td>PMC59543</td>\n",
              "      <td>11667967</td>\n",
              "      <td>no-cc</td>\n",
              "      <td>Inflammatory diseases of the respiratory tract...</td>\n",
              "      <td>2000-08-15</td>\n",
              "      <td>Vliet, Albert van der; Eiserich, Jason P; Cros...</td>\n",
              "      <td>Respir Res</td>\n",
              "      <td>NaN</td>\n",
              "      <td>NaN</td>\n",
              "      <td>NaN</td>\n",
              "      <td>document_parses/pdf_json/6b0567729c2143a66d737...</td>\n",
              "      <td>document_parses/pmc_json/PMC59543.xml.json</td>\n",
              "      <td>https://www.ncbi.nlm.nih.gov/pmc/articles/PMC5...</td>\n",
              "      <td>NaN</td>\n",
              "    </tr>\n",
              "    <tr>\n",
              "      <th>2</th>\n",
              "      <td>ejv2xln0</td>\n",
              "      <td>06ced00a5fc04215949aa72528f2eeaae1d58927</td>\n",
              "      <td>PMC</td>\n",
              "      <td>Surfactant protein-D and pulmonary host defense</td>\n",
              "      <td>10.1186/rr19</td>\n",
              "      <td>PMC59549</td>\n",
              "      <td>11667972</td>\n",
              "      <td>no-cc</td>\n",
              "      <td>Surfactant protein-D (SP-D) participates in th...</td>\n",
              "      <td>2000-08-25</td>\n",
              "      <td>Crouch, Erika C</td>\n",
              "      <td>Respir Res</td>\n",
              "      <td>NaN</td>\n",
              "      <td>NaN</td>\n",
              "      <td>NaN</td>\n",
              "      <td>document_parses/pdf_json/06ced00a5fc04215949aa...</td>\n",
              "      <td>document_parses/pmc_json/PMC59549.xml.json</td>\n",
              "      <td>https://www.ncbi.nlm.nih.gov/pmc/articles/PMC5...</td>\n",
              "      <td>NaN</td>\n",
              "    </tr>\n",
              "    <tr>\n",
              "      <th>3</th>\n",
              "      <td>2b73a28n</td>\n",
              "      <td>348055649b6b8cf2b9a376498df9bf41f7123605</td>\n",
              "      <td>PMC</td>\n",
              "      <td>Role of endothelin-1 in lung disease</td>\n",
              "      <td>10.1186/rr44</td>\n",
              "      <td>PMC59574</td>\n",
              "      <td>11686871</td>\n",
              "      <td>no-cc</td>\n",
              "      <td>Endothelin-1 (ET-1) is a 21 amino acid peptide...</td>\n",
              "      <td>2001-02-22</td>\n",
              "      <td>Fagan, Karen A; McMurtry, Ivan F; Rodman, David M</td>\n",
              "      <td>Respir Res</td>\n",
              "      <td>NaN</td>\n",
              "      <td>NaN</td>\n",
              "      <td>NaN</td>\n",
              "      <td>document_parses/pdf_json/348055649b6b8cf2b9a37...</td>\n",
              "      <td>document_parses/pmc_json/PMC59574.xml.json</td>\n",
              "      <td>https://www.ncbi.nlm.nih.gov/pmc/articles/PMC5...</td>\n",
              "      <td>NaN</td>\n",
              "    </tr>\n",
              "    <tr>\n",
              "      <th>4</th>\n",
              "      <td>9785vg6d</td>\n",
              "      <td>5f48792a5fa08bed9f56016f4981ae2ca6031b32</td>\n",
              "      <td>PMC</td>\n",
              "      <td>Gene expression in epithelial cells in respons...</td>\n",
              "      <td>10.1186/rr61</td>\n",
              "      <td>PMC59580</td>\n",
              "      <td>11686888</td>\n",
              "      <td>no-cc</td>\n",
              "      <td>Respiratory syncytial virus (RSV) and pneumoni...</td>\n",
              "      <td>2001-05-11</td>\n",
              "      <td>Domachowske, Joseph B; Bonville, Cynthia A; Ro...</td>\n",
              "      <td>Respir Res</td>\n",
              "      <td>NaN</td>\n",
              "      <td>NaN</td>\n",
              "      <td>NaN</td>\n",
              "      <td>document_parses/pdf_json/5f48792a5fa08bed9f560...</td>\n",
              "      <td>document_parses/pmc_json/PMC59580.xml.json</td>\n",
              "      <td>https://www.ncbi.nlm.nih.gov/pmc/articles/PMC5...</td>\n",
              "      <td>NaN</td>\n",
              "    </tr>\n",
              "  </tbody>\n",
              "</table>\n",
              "</div>"
            ],
            "text/plain": [
              "   cord_uid  ... s2_id\n",
              "0  ug7v899j  ...   NaN\n",
              "1  02tnwd4m  ...   NaN\n",
              "2  ejv2xln0  ...   NaN\n",
              "3  2b73a28n  ...   NaN\n",
              "4  9785vg6d  ...   NaN\n",
              "\n",
              "[5 rows x 19 columns]"
            ]
          },
          "metadata": {
            "tags": []
          },
          "execution_count": 6
        }
      ]
    },
    {
      "cell_type": "markdown",
      "metadata": {
        "id": "n-nzO38Pjldw"
      },
      "source": [
        "Checking for and removing the duplicate entries and then selecting the columns that are important to the analysis."
      ]
    },
    {
      "cell_type": "code",
      "metadata": {
        "id": "ou_DU0xUjc5f",
        "colab": {
          "base_uri": "https://localhost:8080/",
          "height": 204
        },
        "outputId": "4f63ffa5-29e7-4e98-e09b-0ec9fb822faf"
      },
      "source": [
        "# load the meta data from the CSV file and extract out fields that will be useful to our application\n",
        "df = df[['title','abstract','authors','publish_time']]\n",
        "df = df.drop_duplicates(subset='abstract', keep=\"first\")\n",
        "df = df.dropna()\n",
        "df[\"abstract\"] = df[\"abstract\"].str.lower()\n",
        "df['title'] = df['title'].str.lower()\n",
        "df.head()"
      ],
      "execution_count": 7,
      "outputs": [
        {
          "output_type": "execute_result",
          "data": {
            "text/html": [
              "<div>\n",
              "<style scoped>\n",
              "    .dataframe tbody tr th:only-of-type {\n",
              "        vertical-align: middle;\n",
              "    }\n",
              "\n",
              "    .dataframe tbody tr th {\n",
              "        vertical-align: top;\n",
              "    }\n",
              "\n",
              "    .dataframe thead th {\n",
              "        text-align: right;\n",
              "    }\n",
              "</style>\n",
              "<table border=\"1\" class=\"dataframe\">\n",
              "  <thead>\n",
              "    <tr style=\"text-align: right;\">\n",
              "      <th></th>\n",
              "      <th>title</th>\n",
              "      <th>abstract</th>\n",
              "      <th>authors</th>\n",
              "      <th>publish_time</th>\n",
              "    </tr>\n",
              "  </thead>\n",
              "  <tbody>\n",
              "    <tr>\n",
              "      <th>0</th>\n",
              "      <td>clinical features of culture-proven mycoplasma...</td>\n",
              "      <td>objective: this retrospective chart review des...</td>\n",
              "      <td>Madani, Tariq A; Al-Ghamdi, Aisha A</td>\n",
              "      <td>2001-07-04</td>\n",
              "    </tr>\n",
              "    <tr>\n",
              "      <th>1</th>\n",
              "      <td>nitric oxide: a pro-inflammatory mediator in l...</td>\n",
              "      <td>inflammatory diseases of the respiratory tract...</td>\n",
              "      <td>Vliet, Albert van der; Eiserich, Jason P; Cros...</td>\n",
              "      <td>2000-08-15</td>\n",
              "    </tr>\n",
              "    <tr>\n",
              "      <th>2</th>\n",
              "      <td>surfactant protein-d and pulmonary host defense</td>\n",
              "      <td>surfactant protein-d (sp-d) participates in th...</td>\n",
              "      <td>Crouch, Erika C</td>\n",
              "      <td>2000-08-25</td>\n",
              "    </tr>\n",
              "    <tr>\n",
              "      <th>3</th>\n",
              "      <td>role of endothelin-1 in lung disease</td>\n",
              "      <td>endothelin-1 (et-1) is a 21 amino acid peptide...</td>\n",
              "      <td>Fagan, Karen A; McMurtry, Ivan F; Rodman, David M</td>\n",
              "      <td>2001-02-22</td>\n",
              "    </tr>\n",
              "    <tr>\n",
              "      <th>4</th>\n",
              "      <td>gene expression in epithelial cells in respons...</td>\n",
              "      <td>respiratory syncytial virus (rsv) and pneumoni...</td>\n",
              "      <td>Domachowske, Joseph B; Bonville, Cynthia A; Ro...</td>\n",
              "      <td>2001-05-11</td>\n",
              "    </tr>\n",
              "  </tbody>\n",
              "</table>\n",
              "</div>"
            ],
            "text/plain": [
              "                                               title  ... publish_time\n",
              "0  clinical features of culture-proven mycoplasma...  ...   2001-07-04\n",
              "1  nitric oxide: a pro-inflammatory mediator in l...  ...   2000-08-15\n",
              "2    surfactant protein-d and pulmonary host defense  ...   2000-08-25\n",
              "3               role of endothelin-1 in lung disease  ...   2001-02-22\n",
              "4  gene expression in epithelial cells in respons...  ...   2001-05-11\n",
              "\n",
              "[5 rows x 4 columns]"
            ]
          },
          "metadata": {
            "tags": []
          },
          "execution_count": 7
        }
      ]
    },
    {
      "cell_type": "code",
      "metadata": {
        "colab": {
          "base_uri": "https://localhost:8080/"
        },
        "id": "_RcQg2dUmjGe",
        "outputId": "f95d5dfd-378e-4c5e-b0b2-0dbb8852f713"
      },
      "source": [
        "df.info()"
      ],
      "execution_count": 41,
      "outputs": [
        {
          "output_type": "stream",
          "text": [
            "<class 'pandas.core.frame.DataFrame'>\n",
            "Int64Index: 321013 entries, 0 to 497905\n",
            "Data columns (total 4 columns):\n",
            " #   Column        Non-Null Count   Dtype \n",
            "---  ------        --------------   ----- \n",
            " 0   title         321013 non-null  object\n",
            " 1   abstract      321013 non-null  object\n",
            " 2   authors       321013 non-null  object\n",
            " 3   publish_time  321013 non-null  object\n",
            "dtypes: object(4)\n",
            "memory usage: 12.2+ MB\n"
          ],
          "name": "stdout"
        }
      ]
    },
    {
      "cell_type": "markdown",
      "metadata": {
        "id": "zSmbaKUON5Zs"
      },
      "source": [
        "Defining a function to clean the dataset for easy analysis."
      ]
    },
    {
      "cell_type": "code",
      "metadata": {
        "id": "FJqvxDd5N4ku"
      },
      "source": [
        "def data_cleaning(text):\n",
        "    '''\n",
        "    text: the input to clean\n",
        "    election_data: the type of data we are cleaning\n",
        "                    we dont want to remove hashtags(#)\n",
        "    '''\n",
        "\n",
        "    # removing trailing and leading whitespaces\n",
        "    text = re.sub(r'\\s+',' ',text)\n",
        "\n",
        "    # removing all non alphabet\n",
        "    text=re.sub(r'[^a-zA-Z \\d]+', '', text)\n",
        "\n",
        "    # removing stop words\n",
        "    stop_words = set(stopwords.words('english'))\n",
        "    text = ' '.join(x for x in text.split() if x not in stop_words)\n",
        "\n",
        "    return text"
      ],
      "execution_count": 8,
      "outputs": []
    },
    {
      "cell_type": "code",
      "metadata": {
        "id": "juGOb9K2oh11"
      },
      "source": [
        "df['cleaned_abstract'] = df['abstract'].apply(data_cleaning)\n",
        "df['title'] = df['title'].apply(data_cleaning)"
      ],
      "execution_count": 9,
      "outputs": []
    },
    {
      "cell_type": "code",
      "metadata": {
        "colab": {
          "base_uri": "https://localhost:8080/",
          "height": 289
        },
        "id": "BrQJ8GRHeLcx",
        "outputId": "267ff8f2-11ca-4217-a9ac-486176933226"
      },
      "source": [
        "df.head()"
      ],
      "execution_count": 10,
      "outputs": [
        {
          "output_type": "execute_result",
          "data": {
            "text/html": [
              "<div>\n",
              "<style scoped>\n",
              "    .dataframe tbody tr th:only-of-type {\n",
              "        vertical-align: middle;\n",
              "    }\n",
              "\n",
              "    .dataframe tbody tr th {\n",
              "        vertical-align: top;\n",
              "    }\n",
              "\n",
              "    .dataframe thead th {\n",
              "        text-align: right;\n",
              "    }\n",
              "</style>\n",
              "<table border=\"1\" class=\"dataframe\">\n",
              "  <thead>\n",
              "    <tr style=\"text-align: right;\">\n",
              "      <th></th>\n",
              "      <th>title</th>\n",
              "      <th>abstract</th>\n",
              "      <th>authors</th>\n",
              "      <th>publish_time</th>\n",
              "      <th>cleaned_abstract</th>\n",
              "    </tr>\n",
              "  </thead>\n",
              "  <tbody>\n",
              "    <tr>\n",
              "      <th>0</th>\n",
              "      <td>clinical features cultureproven mycoplasma pne...</td>\n",
              "      <td>objective: this retrospective chart review des...</td>\n",
              "      <td>Madani, Tariq A; Al-Ghamdi, Aisha A</td>\n",
              "      <td>2001-07-04</td>\n",
              "      <td>objective retrospective chart review describes...</td>\n",
              "    </tr>\n",
              "    <tr>\n",
              "      <th>1</th>\n",
              "      <td>nitric oxide proinflammatory mediator lung dis...</td>\n",
              "      <td>inflammatory diseases of the respiratory tract...</td>\n",
              "      <td>Vliet, Albert van der; Eiserich, Jason P; Cros...</td>\n",
              "      <td>2000-08-15</td>\n",
              "      <td>inflammatory diseases respiratory tract common...</td>\n",
              "    </tr>\n",
              "    <tr>\n",
              "      <th>2</th>\n",
              "      <td>surfactant proteind pulmonary host defense</td>\n",
              "      <td>surfactant protein-d (sp-d) participates in th...</td>\n",
              "      <td>Crouch, Erika C</td>\n",
              "      <td>2000-08-25</td>\n",
              "      <td>surfactant proteind spd participates innate re...</td>\n",
              "    </tr>\n",
              "    <tr>\n",
              "      <th>3</th>\n",
              "      <td>role endothelin1 lung disease</td>\n",
              "      <td>endothelin-1 (et-1) is a 21 amino acid peptide...</td>\n",
              "      <td>Fagan, Karen A; McMurtry, Ivan F; Rodman, David M</td>\n",
              "      <td>2001-02-22</td>\n",
              "      <td>endothelin1 et1 21 amino acid peptide diverse ...</td>\n",
              "    </tr>\n",
              "    <tr>\n",
              "      <th>4</th>\n",
              "      <td>gene expression epithelial cells response pneu...</td>\n",
              "      <td>respiratory syncytial virus (rsv) and pneumoni...</td>\n",
              "      <td>Domachowske, Joseph B; Bonville, Cynthia A; Ro...</td>\n",
              "      <td>2001-05-11</td>\n",
              "      <td>respiratory syncytial virus rsv pneumonia viru...</td>\n",
              "    </tr>\n",
              "  </tbody>\n",
              "</table>\n",
              "</div>"
            ],
            "text/plain": [
              "                                               title  ...                                   cleaned_abstract\n",
              "0  clinical features cultureproven mycoplasma pne...  ...  objective retrospective chart review describes...\n",
              "1  nitric oxide proinflammatory mediator lung dis...  ...  inflammatory diseases respiratory tract common...\n",
              "2         surfactant proteind pulmonary host defense  ...  surfactant proteind spd participates innate re...\n",
              "3                      role endothelin1 lung disease  ...  endothelin1 et1 21 amino acid peptide diverse ...\n",
              "4  gene expression epithelial cells response pneu...  ...  respiratory syncytial virus rsv pneumonia viru...\n",
              "\n",
              "[5 rows x 5 columns]"
            ]
          },
          "metadata": {
            "tags": []
          },
          "execution_count": 10
        }
      ]
    },
    {
      "cell_type": "markdown",
      "metadata": {
        "id": "MorZNs7IS9n2"
      },
      "source": [
        "Lemmatizing the `cleaned_abstract` column to reduce the inflectional forms of some words and to reduce the vocabulary size for when TF-IDF is performed on it."
      ]
    },
    {
      "cell_type": "code",
      "metadata": {
        "id": "8hyD4uguTGq2"
      },
      "source": [
        "df['lemmatized_abstract'] = df['cleaned_abstract'].apply(lambda x: ' '.join([Word(word).lemmatize() for word in x.split()]))"
      ],
      "execution_count": 11,
      "outputs": []
    },
    {
      "cell_type": "markdown",
      "metadata": {
        "id": "p-dzRU-AWlav"
      },
      "source": [
        "# PART 2: Data Visualization and Exploratory Data Analysis.\n",
        "\n",
        "Articles related to each deadly coronavirus strain is filtered out using certain keywords related to each strain (`MERS-CoV`, `SARS-CoV`, and `SARS-CoV-2`)."
      ]
    },
    {
      "cell_type": "code",
      "metadata": {
        "id": "scKnhcgmTGey"
      },
      "source": [
        "# creating keywords for each strain of coronavirus\n",
        "mers_cov_keys = 'mers|merscov|emc2012|middle east respiratory syndrome'\n",
        "sars_cov_1_keys = 'sarscov1|sars1|sars |sarscov '\n",
        "sars_cov_2_keys = 'sarscov2|sars2|covid19|hcov19|2019ncov'"
      ],
      "execution_count": 12,
      "outputs": []
    },
    {
      "cell_type": "code",
      "metadata": {
        "id": "fpN7wDIYTGZ1"
      },
      "source": [
        "# filtering the whole dataset to find articles that are related to each strain\n",
        "df['mers cov'] = df['lemmatized_abstract'].str.contains(mers_cov_keys)\n",
        "df['sars cov 1'] = df['lemmatized_abstract'].str.contains(sars_cov_1_keys)\n",
        "df['sars cov 2'] = df['lemmatized_abstract'].str.contains(sars_cov_2_keys)"
      ],
      "execution_count": 13,
      "outputs": []
    },
    {
      "cell_type": "code",
      "metadata": {
        "colab": {
          "base_uri": "https://localhost:8080/",
          "height": 323
        },
        "id": "Dlqqv38aTGPi",
        "outputId": "78f6164f-fe7d-476c-dc2b-3359121dd390"
      },
      "source": [
        "df.head()"
      ],
      "execution_count": 14,
      "outputs": [
        {
          "output_type": "execute_result",
          "data": {
            "text/html": [
              "<div>\n",
              "<style scoped>\n",
              "    .dataframe tbody tr th:only-of-type {\n",
              "        vertical-align: middle;\n",
              "    }\n",
              "\n",
              "    .dataframe tbody tr th {\n",
              "        vertical-align: top;\n",
              "    }\n",
              "\n",
              "    .dataframe thead th {\n",
              "        text-align: right;\n",
              "    }\n",
              "</style>\n",
              "<table border=\"1\" class=\"dataframe\">\n",
              "  <thead>\n",
              "    <tr style=\"text-align: right;\">\n",
              "      <th></th>\n",
              "      <th>title</th>\n",
              "      <th>abstract</th>\n",
              "      <th>authors</th>\n",
              "      <th>publish_time</th>\n",
              "      <th>cleaned_abstract</th>\n",
              "      <th>lemmatized_abstract</th>\n",
              "      <th>mers cov</th>\n",
              "      <th>sars cov 1</th>\n",
              "      <th>sars cov 2</th>\n",
              "    </tr>\n",
              "  </thead>\n",
              "  <tbody>\n",
              "    <tr>\n",
              "      <th>0</th>\n",
              "      <td>clinical features cultureproven mycoplasma pne...</td>\n",
              "      <td>objective: this retrospective chart review des...</td>\n",
              "      <td>Madani, Tariq A; Al-Ghamdi, Aisha A</td>\n",
              "      <td>2001-07-04</td>\n",
              "      <td>objective retrospective chart review describes...</td>\n",
              "      <td>objective retrospective chart review describes...</td>\n",
              "      <td>False</td>\n",
              "      <td>False</td>\n",
              "      <td>False</td>\n",
              "    </tr>\n",
              "    <tr>\n",
              "      <th>1</th>\n",
              "      <td>nitric oxide proinflammatory mediator lung dis...</td>\n",
              "      <td>inflammatory diseases of the respiratory tract...</td>\n",
              "      <td>Vliet, Albert van der; Eiserich, Jason P; Cros...</td>\n",
              "      <td>2000-08-15</td>\n",
              "      <td>inflammatory diseases respiratory tract common...</td>\n",
              "      <td>inflammatory disease respiratory tract commonl...</td>\n",
              "      <td>False</td>\n",
              "      <td>False</td>\n",
              "      <td>False</td>\n",
              "    </tr>\n",
              "    <tr>\n",
              "      <th>2</th>\n",
              "      <td>surfactant proteind pulmonary host defense</td>\n",
              "      <td>surfactant protein-d (sp-d) participates in th...</td>\n",
              "      <td>Crouch, Erika C</td>\n",
              "      <td>2000-08-25</td>\n",
              "      <td>surfactant proteind spd participates innate re...</td>\n",
              "      <td>surfactant proteind spd participates innate re...</td>\n",
              "      <td>False</td>\n",
              "      <td>False</td>\n",
              "      <td>False</td>\n",
              "    </tr>\n",
              "    <tr>\n",
              "      <th>3</th>\n",
              "      <td>role endothelin1 lung disease</td>\n",
              "      <td>endothelin-1 (et-1) is a 21 amino acid peptide...</td>\n",
              "      <td>Fagan, Karen A; McMurtry, Ivan F; Rodman, David M</td>\n",
              "      <td>2001-02-22</td>\n",
              "      <td>endothelin1 et1 21 amino acid peptide diverse ...</td>\n",
              "      <td>endothelin1 et1 21 amino acid peptide diverse ...</td>\n",
              "      <td>False</td>\n",
              "      <td>False</td>\n",
              "      <td>False</td>\n",
              "    </tr>\n",
              "    <tr>\n",
              "      <th>4</th>\n",
              "      <td>gene expression epithelial cells response pneu...</td>\n",
              "      <td>respiratory syncytial virus (rsv) and pneumoni...</td>\n",
              "      <td>Domachowske, Joseph B; Bonville, Cynthia A; Ro...</td>\n",
              "      <td>2001-05-11</td>\n",
              "      <td>respiratory syncytial virus rsv pneumonia viru...</td>\n",
              "      <td>respiratory syncytial virus rsv pneumonia viru...</td>\n",
              "      <td>False</td>\n",
              "      <td>False</td>\n",
              "      <td>False</td>\n",
              "    </tr>\n",
              "  </tbody>\n",
              "</table>\n",
              "</div>"
            ],
            "text/plain": [
              "                                               title  ... sars cov 2\n",
              "0  clinical features cultureproven mycoplasma pne...  ...      False\n",
              "1  nitric oxide proinflammatory mediator lung dis...  ...      False\n",
              "2         surfactant proteind pulmonary host defense  ...      False\n",
              "3                      role endothelin1 lung disease  ...      False\n",
              "4  gene expression epithelial cells response pneu...  ...      False\n",
              "\n",
              "[5 rows x 9 columns]"
            ]
          },
          "metadata": {
            "tags": []
          },
          "execution_count": 14
        }
      ]
    },
    {
      "cell_type": "code",
      "metadata": {
        "id": "EDQFZkNipoA9",
        "colab": {
          "base_uri": "https://localhost:8080/"
        },
        "outputId": "ad5c0544-bb14-4927-ff5b-b172a1381993"
      },
      "source": [
        "# counting the number of article related to each strain\n",
        "mers_cov_count = df['mers cov'].sum()\n",
        "sars_cov_1_count = df['sars cov 1'].sum()\n",
        "sars_cov_2_count = df['sars cov 2'].sum()\n",
        "\n",
        "print('Number of articles related to MERS-CoV: {}'.format(mers_cov_count))\n",
        "print('Number of articles related to SARS-CoV-1: {}'.format(sars_cov_1_count))\n",
        "print('Number of articles related to SARS-CoV-2: {}'.format(sars_cov_2_count))"
      ],
      "execution_count": 15,
      "outputs": [
        {
          "output_type": "stream",
          "text": [
            "Number of articles related to MERS-CoV: 8678\n",
            "Number of articles related to SARS-CoV-1: 14214\n",
            "Number of articles related to SARS-CoV-2: 169936\n"
          ],
          "name": "stdout"
        }
      ]
    },
    {
      "cell_type": "markdown",
      "metadata": {
        "id": "GCQrFPB1tDas"
      },
      "source": [
        "`SARS-CoV-2` (COVID-19) has `169936` scholarly articles related to it with `14214` for `SARS-CoV-1` and just `8678` for `MERS-CoV` strain. "
      ]
    },
    {
      "cell_type": "code",
      "metadata": {
        "id": "a7i9L8bw_4pH"
      },
      "source": [
        "# creating a dataframe for articles related to each of the strain\n",
        "df_mers_cov = df[df['mers cov'] == True]\n",
        "df_sars_cov_1 = df[df['sars cov 1'] == True]\n",
        "df_sars_cov_2 = df[df['sars cov 2'] == True]"
      ],
      "execution_count": 16,
      "outputs": []
    },
    {
      "cell_type": "markdown",
      "metadata": {
        "id": "GJAQy7cOA8C2"
      },
      "source": [
        "Creating a collection of symptoms to explore which symptoms are prominent for each coronavirus strains. "
      ]
    },
    {
      "cell_type": "code",
      "metadata": {
        "id": "oElJs7CLD1tx"
      },
      "source": [
        "# creating the collection of symptoms\n",
        "symptoms = ['insomnia', 'headache', 'fatigue', 'depression', 'dyspnea', 'anxiety', 'discharge', 'cough', 'fever', 'cold', 'sore throat', 'pneumonia']"
      ],
      "execution_count": 17,
      "outputs": []
    },
    {
      "cell_type": "markdown",
      "metadata": {
        "id": "Ft82TCjBGZ_L"
      },
      "source": [
        "Checking the symptoms for `MERS-CoV`."
      ]
    },
    {
      "cell_type": "code",
      "metadata": {
        "id": "cOQ9ZQ4FCVAf"
      },
      "source": [
        "symptom_count = dict((symptom,0) for symptom in symptoms)\n",
        "for symptom in symptom_count:\n",
        "    for abstract in df_mers_cov['lemmatized_abstract']:\n",
        "        if str(symptom) in abstract:\n",
        "            symptom_count[symptom] += 1\n",
        "\n",
        "symptom_count_sorted = OrderedDict(sorted(symptom_count.items(), key=lambda x: x[1]))\n",
        "mers_cov_symptoms = dict(symptom_count_sorted)"
      ],
      "execution_count": 18,
      "outputs": []
    },
    {
      "cell_type": "markdown",
      "metadata": {
        "id": "aPGOFHGtGX00"
      },
      "source": [
        "Checking the symptoms for `SARS-CoV-1`."
      ]
    },
    {
      "cell_type": "code",
      "metadata": {
        "id": "UF880bRlGMBf"
      },
      "source": [
        "symptom_count = dict((symptom,0) for symptom in symptoms)\n",
        "for symptom in symptom_count:\n",
        "    for abstract in df_sars_cov_1['lemmatized_abstract']:\n",
        "        if str(symptom) in abstract:\n",
        "            symptom_count[symptom] += 1\n",
        "\n",
        "symptom_count_sorted = OrderedDict(sorted(symptom_count.items(), key=lambda x: x[1]))\n",
        "sars_cov_1_symptoms = dict(symptom_count_sorted)"
      ],
      "execution_count": 19,
      "outputs": []
    },
    {
      "cell_type": "markdown",
      "metadata": {
        "id": "1yj-7UpwGhq3"
      },
      "source": [
        "Checking the symptoms for `SARS-CoV-2`."
      ]
    },
    {
      "cell_type": "code",
      "metadata": {
        "id": "AMl5QQjcGkUI"
      },
      "source": [
        "symptom_count = dict((symptom,0) for symptom in symptoms)\n",
        "for symptom in symptom_count:\n",
        "    for abstract in df_sars_cov_2['lemmatized_abstract']:\n",
        "        if str(symptom) in abstract:\n",
        "            symptom_count[symptom] += 1\n",
        "\n",
        "symptom_count_sorted = OrderedDict(sorted(symptom_count.items(), key=lambda x: x[1]))\n",
        "sars_cov_2_symptoms = dict(symptom_count_sorted)"
      ],
      "execution_count": 20,
      "outputs": []
    },
    {
      "cell_type": "code",
      "metadata": {
        "colab": {
          "base_uri": "https://localhost:8080/",
          "height": 142
        },
        "id": "ylPACssUQUGh",
        "outputId": "784cda44-2008-4335-9b8b-f6352863c5b5"
      },
      "source": [
        "df_virus_symptoms = pd.DataFrame([mers_cov_symptoms, sars_cov_1_symptoms, sars_cov_2_symptoms], index=['MERS-CoV', 'SARS-CoV-1', 'SARS-CoV-2'])\n",
        "df_virus_symptoms = df_virus_symptoms.div(df_virus_symptoms.sum(axis=1), axis=0)\n",
        "df_virus_symptoms"
      ],
      "execution_count": 21,
      "outputs": [
        {
          "output_type": "execute_result",
          "data": {
            "text/html": [
              "<div>\n",
              "<style scoped>\n",
              "    .dataframe tbody tr th:only-of-type {\n",
              "        vertical-align: middle;\n",
              "    }\n",
              "\n",
              "    .dataframe tbody tr th {\n",
              "        vertical-align: top;\n",
              "    }\n",
              "\n",
              "    .dataframe thead th {\n",
              "        text-align: right;\n",
              "    }\n",
              "</style>\n",
              "<table border=\"1\" class=\"dataframe\">\n",
              "  <thead>\n",
              "    <tr style=\"text-align: right;\">\n",
              "      <th></th>\n",
              "      <th>insomnia</th>\n",
              "      <th>sore throat</th>\n",
              "      <th>dyspnea</th>\n",
              "      <th>headache</th>\n",
              "      <th>fatigue</th>\n",
              "      <th>depression</th>\n",
              "      <th>discharge</th>\n",
              "      <th>anxiety</th>\n",
              "      <th>cold</th>\n",
              "      <th>cough</th>\n",
              "      <th>fever</th>\n",
              "      <th>pneumonia</th>\n",
              "    </tr>\n",
              "  </thead>\n",
              "  <tbody>\n",
              "    <tr>\n",
              "      <th>MERS-CoV</th>\n",
              "      <td>0.005699</td>\n",
              "      <td>0.019377</td>\n",
              "      <td>0.028875</td>\n",
              "      <td>0.041033</td>\n",
              "      <td>0.041793</td>\n",
              "      <td>0.043693</td>\n",
              "      <td>0.052812</td>\n",
              "      <td>0.056991</td>\n",
              "      <td>0.080927</td>\n",
              "      <td>0.118541</td>\n",
              "      <td>0.187690</td>\n",
              "      <td>0.322568</td>\n",
              "    </tr>\n",
              "    <tr>\n",
              "      <th>SARS-CoV-1</th>\n",
              "      <td>0.005369</td>\n",
              "      <td>0.021709</td>\n",
              "      <td>0.033847</td>\n",
              "      <td>0.041083</td>\n",
              "      <td>0.044118</td>\n",
              "      <td>0.030812</td>\n",
              "      <td>0.062792</td>\n",
              "      <td>0.047852</td>\n",
              "      <td>0.062558</td>\n",
              "      <td>0.128852</td>\n",
              "      <td>0.202148</td>\n",
              "      <td>0.318861</td>\n",
              "    </tr>\n",
              "    <tr>\n",
              "      <th>SARS-CoV-2</th>\n",
              "      <td>0.012216</td>\n",
              "      <td>0.015357</td>\n",
              "      <td>0.038955</td>\n",
              "      <td>0.030637</td>\n",
              "      <td>0.043628</td>\n",
              "      <td>0.086849</td>\n",
              "      <td>0.119076</td>\n",
              "      <td>0.133949</td>\n",
              "      <td>0.019759</td>\n",
              "      <td>0.117486</td>\n",
              "      <td>0.152874</td>\n",
              "      <td>0.229214</td>\n",
              "    </tr>\n",
              "  </tbody>\n",
              "</table>\n",
              "</div>"
            ],
            "text/plain": [
              "            insomnia  sore throat   dyspnea  ...     cough     fever  pneumonia\n",
              "MERS-CoV    0.005699     0.019377  0.028875  ...  0.118541  0.187690   0.322568\n",
              "SARS-CoV-1  0.005369     0.021709  0.033847  ...  0.128852  0.202148   0.318861\n",
              "SARS-CoV-2  0.012216     0.015357  0.038955  ...  0.117486  0.152874   0.229214\n",
              "\n",
              "[3 rows x 12 columns]"
            ]
          },
          "metadata": {
            "tags": []
          },
          "execution_count": 21
        }
      ]
    },
    {
      "cell_type": "code",
      "metadata": {
        "colab": {
          "base_uri": "https://localhost:8080/",
          "height": 455
        },
        "id": "jr0AD-0hVLtf",
        "outputId": "39d0ab0e-e4da-4e74-f6f9-5fc185870f3d"
      },
      "source": [
        "df_virus_symptoms.T.plot.bar(figsize=(15, 6), width=0.6, rot=45)\n",
        "plt.legend(title='Coronavirus Strains', bbox_to_anchor=(1.05, 1), loc='upper left', fontsize=12)\n",
        "plt.xticks(fontsize=12)\n",
        "plt.yticks(fontsize=12)\n",
        "plt.ylabel('Normalized Frequency', fontsize=12)\n",
        "plt.xlabel('Symptoms', fontsize=14)\n",
        "plt.title('Distribution of Symptoms for each Coronavirus Strains')\n",
        "plt.show()"
      ],
      "execution_count": 22,
      "outputs": [
        {
          "output_type": "display_data",
          "data": {
            "image/png": "[encoded data removed]",
            "text/plain": [
              "<Figure size 1080x432 with 1 Axes>"
            ]
          },
          "metadata": {
            "tags": [],
            "needs_background": "light"
          }
        }
      ]
    },
    {
      "cell_type": "markdown",
      "metadata": {
        "id": "lYA8Ujpex89q"
      },
      "source": [
        "**OBSERVATION:** From the graph showing the distribution of symptoms for each coronavirus strain, it can be observed the `Pneumonia`, `Fever` and `Cough` are the major symptoms for the three strains. Also, with `SARS-CoV-2` being the latest strain, it has other symptoms (`Depression`, `Discharge`, `Anxiety`) that are not common in the other two strains. This is an indication that the `SARS-CoV-2` is different compared to the other two strains."
      ]
    },
    {
      "cell_type": "markdown",
      "metadata": {
        "id": "ynszTprtbOHH"
      },
      "source": [
        "Exploring the vaccines that have been used to control the spread of the three deadly strains of coronavirus. Vaccines to be explored:\n",
        "- `Pfizer-BioNTech`\n",
        "- `Moderna`\n",
        "- `Janssen (Johnson & Johnson)`\n",
        "- `AstraZeneca`"
      ]
    },
    {
      "cell_type": "code",
      "metadata": {
        "id": "ntZbuS5JbMov"
      },
      "source": [
        "# creating the keywords for each vaccine\n",
        "pfizer_biontech_keys = 'bnt162b2|pfizer|biontech'\n",
        "moderna_keys = 'mrna1273|moderna'\n",
        "johnson_keys = 'jnj78436735|janssen|johnson|jj'\n",
        "astrazeneca_keys = 'astrazeneca|chadOx1s|covishield|verity'"
      ],
      "execution_count": 23,
      "outputs": []
    },
    {
      "cell_type": "markdown",
      "metadata": {
        "id": "PDMgNjc5IODH"
      },
      "source": [
        "Checking the frequency of occurence for each vaccine in articles that are related to MERS-CoV."
      ]
    },
    {
      "cell_type": "code",
      "metadata": {
        "id": "Vi5djrIcZT14"
      },
      "source": [
        "df_mers_cov['pfizer'] = df_mers_cov['lemmatized_abstract'].str.contains(pfizer_biontech_keys)\n",
        "df_mers_cov['moderna'] = df_mers_cov['lemmatized_abstract'].str.contains(moderna_keys)\n",
        "df_mers_cov['johnson'] = df_mers_cov['lemmatized_abstract'].str.contains(johnson_keys)\n",
        "df_mers_cov['astrazeneca'] = df_mers_cov['lemmatized_abstract'].str.contains(astrazeneca_keys)"
      ],
      "execution_count": 24,
      "outputs": []
    },
    {
      "cell_type": "code",
      "metadata": {
        "colab": {
          "base_uri": "https://localhost:8080/"
        },
        "id": "cWU9qf0b222W",
        "outputId": "874b3dff-fe62-43cd-fa2a-7a5bd84baea7"
      },
      "source": [
        "# Counts for number of article related to each strain of deadly human coronavirus\n",
        "mers_pfizer_count = df_mers_cov['pfizer'].sum()\n",
        "mers_moderna_count = df_mers_cov['moderna'].sum()\n",
        "mers_johnson_count = df_mers_cov['johnson'].sum()\n",
        "mers_astrazeneca_count = df_mers_cov['astrazeneca'].sum()\n",
        "\n",
        "mers_vax = {'Pfizer':mers_pfizer_count, 'Moderna':mers_moderna_count, 'JJ-Janssen':mers_johnson_count, 'AstraZeneca':mers_astrazeneca_count}\n",
        "print('Number of times each vaccine was mentioned in articles related to MERS-CoV.\\nPfizer: {}\\nModerna: {}\\nJohnson: {}\\nAstraZeneca: {}'\n",
        ".format(mers_pfizer_count, mers_moderna_count, mers_johnson_count, mers_astrazeneca_count))"
      ],
      "execution_count": 25,
      "outputs": [
        {
          "output_type": "stream",
          "text": [
            "Number of times each vaccine was mentioned in articles related to MERS-CoV.\n",
            "Pfizer: 7\n",
            "Moderna: 6\n",
            "Johnson: 64\n",
            "AstraZeneca: 482\n"
          ],
          "name": "stdout"
        }
      ]
    },
    {
      "cell_type": "markdown",
      "metadata": {
        "id": "sjzJJROXIkCK"
      },
      "source": [
        "Exploring the frequency of occurence for each vaccine in articles that are related to SARS-CoV-1."
      ]
    },
    {
      "cell_type": "code",
      "metadata": {
        "id": "BxZ0whrEIqpf"
      },
      "source": [
        "df_sars_cov_1['pfizer'] = df_sars_cov_1['lemmatized_abstract'].str.contains(pfizer_biontech_keys)\n",
        "df_sars_cov_1['moderna'] = df_sars_cov_1['lemmatized_abstract'].str.contains(moderna_keys)\n",
        "df_sars_cov_1['johnson'] = df_sars_cov_1['lemmatized_abstract'].str.contains(johnson_keys)\n",
        "df_sars_cov_1['astrazeneca'] = df_sars_cov_1['lemmatized_abstract'].str.contains(astrazeneca_keys)"
      ],
      "execution_count": 26,
      "outputs": []
    },
    {
      "cell_type": "code",
      "metadata": {
        "colab": {
          "base_uri": "https://localhost:8080/"
        },
        "id": "xG-hpmUwIqj1",
        "outputId": "74e7e05d-525b-4453-9bf9-ad6c56a09ff9"
      },
      "source": [
        "# Counts for number of article related to each strain of deadly human coronavirus\n",
        "sars1_pfizer_count = df_sars_cov_1['pfizer'].sum()\n",
        "sars1_moderna_count = df_sars_cov_1['moderna'].sum()\n",
        "sars1_johnson_count = df_sars_cov_1['johnson'].sum()\n",
        "sars1_astrazeneca_count = df_sars_cov_1['astrazeneca'].sum()\n",
        "\n",
        "sars1_vax = {'Pfizer':sars1_pfizer_count, 'Moderna':sars1_moderna_count, 'JJ-Janssen':sars1_johnson_count, 'AstraZeneca':sars1_astrazeneca_count}\n",
        "print('Number of times each vaccine was mentioned in articles related to SARS-CoV-1.\\nPfizer: {}\\nModerna: {}\\nJohnson: {}\\nAstraZeneca: {}'\n",
        ".format(sars1_pfizer_count, sars1_moderna_count, sars1_johnson_count, sars1_astrazeneca_count))"
      ],
      "execution_count": 27,
      "outputs": [
        {
          "output_type": "stream",
          "text": [
            "Number of times each vaccine was mentioned in articles related to SARS-CoV-1.\n",
            "Pfizer: 16\n",
            "Moderna: 19\n",
            "Johnson: 18\n",
            "AstraZeneca: 790\n"
          ],
          "name": "stdout"
        }
      ]
    },
    {
      "cell_type": "markdown",
      "metadata": {
        "id": "nGNJwqf0InMf"
      },
      "source": [
        "Checking the frequency of occurence for each vaccine in articles that are related to SARS-CoV-2."
      ]
    },
    {
      "cell_type": "code",
      "metadata": {
        "id": "6X4aRw3oIsPQ"
      },
      "source": [
        "df_sars_cov_2['pfizer'] = df_sars_cov_2['lemmatized_abstract'].str.contains(pfizer_biontech_keys)\n",
        "df_sars_cov_2['moderna'] = df_sars_cov_2['lemmatized_abstract'].str.contains(moderna_keys)\n",
        "df_sars_cov_2['johnson'] = df_sars_cov_2['lemmatized_abstract'].str.contains(johnson_keys)\n",
        "df_sars_cov_2['astrazeneca'] = df_sars_cov_2['lemmatized_abstract'].str.contains(astrazeneca_keys)"
      ],
      "execution_count": 28,
      "outputs": []
    },
    {
      "cell_type": "code",
      "metadata": {
        "colab": {
          "base_uri": "https://localhost:8080/"
        },
        "id": "BLUHPgu5IsBO",
        "outputId": "f43778d0-3f5b-4260-8839-d606da933ccc"
      },
      "source": [
        "# Counts for number of article related to each strain of deadly human coronavirus\n",
        "sars2_pfizer_count = df_sars_cov_2['pfizer'].sum()\n",
        "sars2_moderna_count = df_sars_cov_2['moderna'].sum()\n",
        "sars2_johnson_count = df_sars_cov_2['johnson'].sum()\n",
        "sars2_astrazeneca_count = df_sars_cov_2['astrazeneca'].sum()\n",
        "\n",
        "sars2_vax = {'Pfizer':sars2_pfizer_count, 'Moderna':sars2_moderna_count, 'JJ-Janssen':sars2_johnson_count, 'AstraZeneca':sars2_astrazeneca_count}\n",
        "print('Number of times each vaccine was mentioned in articles related to SARS-CoV-1.\\nPfizer: {}\\nModerna: {}\\nJohnson: {}\\nAstraZeneca: {}'\n",
        ".format(sars2_pfizer_count, sars2_moderna_count, sars2_johnson_count, sars2_astrazeneca_count))"
      ],
      "execution_count": 29,
      "outputs": [
        {
          "output_type": "stream",
          "text": [
            "Number of times each vaccine was mentioned in articles related to SARS-CoV-1.\n",
            "Pfizer: 304\n",
            "Moderna: 189\n",
            "Johnson: 193\n",
            "AstraZeneca: 12547\n"
          ],
          "name": "stdout"
        }
      ]
    },
    {
      "cell_type": "code",
      "metadata": {
        "colab": {
          "base_uri": "https://localhost:8080/",
          "height": 142
        },
        "id": "7bOTyYawbGrF",
        "outputId": "415613c4-2443-4c25-f263-7588d1f7da13"
      },
      "source": [
        "# normalizing the occurence of the vaccines for each strain for visualization\n",
        "df_strains_vaccine = pd.DataFrame([mers_vax, sars1_vax, sars2_vax], index=['MERS-CoV', 'SARS-CoV-1', 'SARS-CoV-2'])\n",
        "df_strains_vaccine = df_strains_vaccine.div(df_strains_vaccine.sum(axis=1), axis=0)\n",
        "df_strains_vaccine"
      ],
      "execution_count": 30,
      "outputs": [
        {
          "output_type": "execute_result",
          "data": {
            "text/html": [
              "<div>\n",
              "<style scoped>\n",
              "    .dataframe tbody tr th:only-of-type {\n",
              "        vertical-align: middle;\n",
              "    }\n",
              "\n",
              "    .dataframe tbody tr th {\n",
              "        vertical-align: top;\n",
              "    }\n",
              "\n",
              "    .dataframe thead th {\n",
              "        text-align: right;\n",
              "    }\n",
              "</style>\n",
              "<table border=\"1\" class=\"dataframe\">\n",
              "  <thead>\n",
              "    <tr style=\"text-align: right;\">\n",
              "      <th></th>\n",
              "      <th>Pfizer</th>\n",
              "      <th>Moderna</th>\n",
              "      <th>JJ-Janssen</th>\n",
              "      <th>AstraZeneca</th>\n",
              "    </tr>\n",
              "  </thead>\n",
              "  <tbody>\n",
              "    <tr>\n",
              "      <th>MERS-CoV</th>\n",
              "      <td>0.012522</td>\n",
              "      <td>0.010733</td>\n",
              "      <td>0.114490</td>\n",
              "      <td>0.862254</td>\n",
              "    </tr>\n",
              "    <tr>\n",
              "      <th>SARS-CoV-1</th>\n",
              "      <td>0.018980</td>\n",
              "      <td>0.022539</td>\n",
              "      <td>0.021352</td>\n",
              "      <td>0.937129</td>\n",
              "    </tr>\n",
              "    <tr>\n",
              "      <th>SARS-CoV-2</th>\n",
              "      <td>0.022973</td>\n",
              "      <td>0.014282</td>\n",
              "      <td>0.014585</td>\n",
              "      <td>0.948160</td>\n",
              "    </tr>\n",
              "  </tbody>\n",
              "</table>\n",
              "</div>"
            ],
            "text/plain": [
              "              Pfizer   Moderna  JJ-Janssen  AstraZeneca\n",
              "MERS-CoV    0.012522  0.010733    0.114490     0.862254\n",
              "SARS-CoV-1  0.018980  0.022539    0.021352     0.937129\n",
              "SARS-CoV-2  0.022973  0.014282    0.014585     0.948160"
            ]
          },
          "metadata": {
            "tags": []
          },
          "execution_count": 30
        }
      ]
    },
    {
      "cell_type": "code",
      "metadata": {
        "colab": {
          "base_uri": "https://localhost:8080/",
          "height": 458
        },
        "id": "N6TRHb-fcXsM",
        "outputId": "7ee8650b-9aa8-4a80-db02-d4c35a9ca1d7"
      },
      "source": [
        "df_strains_vaccine.plot.bar(figsize=(10, 6), width=0.8, rot=45, fontsize=12)\n",
        "plt.legend(title='Vaccines', bbox_to_anchor=(1.05, 1), loc='upper left', fontsize=12)\n",
        "plt.xticks(fontsize=12)\n",
        "plt.yticks(fontsize=12)\n",
        "plt.ylabel('Normalized Frequency', fontsize=12)\n",
        "plt.xlabel('Coronavirus Strains', fontsize=12)\n",
        "plt.title('Distribution of Vaccines by Coronavirus Strain', fontsize=14)\n",
        "plt.show()"
      ],
      "execution_count": 31,
      "outputs": [
        {
          "output_type": "display_data",
          "data": {
            "image/png": "[encoded data removed]",
            "text/plain": [
              "<Figure size 720x432 with 1 Axes>"
            ]
          },
          "metadata": {
            "tags": [],
            "needs_background": "light"
          }
        }
      ]
    },
    {
      "cell_type": "markdown",
      "metadata": {
        "id": "JcNQgelEqJXX"
      },
      "source": [
        "**OBSERVATION:** From the graph showing how frequently each vaccine co-occur wuth each strain of the virus, It is apparent that the `AstraZeneca` vaccine has more occurence with the three strains of virus. This is an indication that much scientific research has been carried out on `AstraZeneca Vaccine` with regards to the previous and current strains of the coronavirus; and less attention has been given to other Covid-19 vaccines."
      ]
    },
    {
      "cell_type": "markdown",
      "metadata": {
        "id": "QuOoNBH4WWc9"
      },
      "source": [
        "Investigating prominent vaccines among countries that have been able to efficiently tackle the spread of covid-19 in their nation. Some of the countries are:\n",
        " - `Singapore`\n",
        " - `Taiwan`\n",
        " - `South Korea`\n",
        " - `New Zealand`\n",
        " - `Australia`\n",
        " - `UAE`\n",
        " - `China`"
      ]
    },
    {
      "cell_type": "code",
      "metadata": {
        "id": "JTF2GlRQ6gJx"
      },
      "source": [
        "# creating a function to get the count of the vaccines per country\n",
        "def vaccine_by_country(country):\n",
        "    country_dict = dict()\n",
        "    country_article = df[df['lemmatized_abstract'].str.contains(country)]\n",
        "\n",
        "    country_article['Pfizer'] = country_article['lemmatized_abstract'].str.contains(pfizer_biontech_keys)\n",
        "    country_article['Moderna'] = country_article['lemmatized_abstract'].str.contains(moderna_keys)\n",
        "    country_article['Johnson'] = country_article['lemmatized_abstract'].str.contains(johnson_keys)\n",
        "    country_article['AstraZeneca'] = country_article['lemmatized_abstract'].str.contains(astrazeneca_keys)\n",
        "\n",
        "    # Counts for number of article related to each strain of deadly human coronavirus\n",
        "    country_pfizer_count = country_article['Pfizer'].sum()\n",
        "    country_moderna_count = country_article['Moderna'].sum()\n",
        "    country_johnson_count = country_article['Johnson'].sum()\n",
        "    country_astrazeneca_count = country_article['AstraZeneca'].sum()\n",
        "\n",
        "    country_dict['Pfizer'] = country_pfizer_count\n",
        "    country_dict['Moderna'] = country_moderna_count\n",
        "    country_dict['Johnson'] = country_johnson_count\n",
        "    country_dict['AstraZeneca'] = country_astrazeneca_count\n",
        "\n",
        "    return country_dict\n",
        "\n",
        "countries = ['singapore', 'taiwan', 'south korea', 'new zealand', 'australia', 'uae', 'china']\n",
        "country_list = list()\n",
        "for country in countries:\n",
        "    country_result = vaccine_by_country(country)\n",
        "    country_list.append(country_result)\n",
        "\n",
        "df_country_result = pd.DataFrame(country_list, index=[country.capitalize() for country in countries])\n",
        "df_country_result = df_country_result.div(df_country_result.sum(axis=1), axis=0)"
      ],
      "execution_count": 32,
      "outputs": []
    },
    {
      "cell_type": "code",
      "metadata": {
        "colab": {
          "base_uri": "https://localhost:8080/",
          "height": 462
        },
        "id": "xMEc8lQ2GhMw",
        "outputId": "f65e68bd-2f5f-4846-fce7-d38e880b5151"
      },
      "source": [
        "df_country_result.plot.bar(figsize=(10, 6), width=0.8, rot=45, fontsize=12)\n",
        "plt.legend(title='Vaccines', bbox_to_anchor=(1.05, 1), loc='upper left', fontsize=12)\n",
        "plt.xticks(fontsize=12)\n",
        "plt.yticks(fontsize=12)\n",
        "plt.ylabel('Normalized Frequency', fontsize=12)\n",
        "plt.xlabel('Country', fontsize=12)\n",
        "plt.title('Distribution of Vaccines by Country', fontsize=14)\n",
        "plt.show()"
      ],
      "execution_count": 33,
      "outputs": [
        {
          "output_type": "display_data",
          "data": {
            "image/png": "[encoded data removed]",
            "text/plain": [
              "<Figure size 720x432 with 1 Axes>"
            ]
          },
          "metadata": {
            "tags": [],
            "needs_background": "light"
          }
        }
      ]
    },
    {
      "cell_type": "markdown",
      "metadata": {
        "id": "gZ_hmr3exGlk"
      },
      "source": [
        "**OBSERVATION:** As shown in the distribution of It can be said that the `AstraZeneca Vaccine` happen to have more occurence with the countries that were able mitigate the spread of the virus compared to other vaccines. This implies that the `AstraZeneca Vaccine` might be a good vaccination option to control the spread of Covid-19."
      ]
    },
    {
      "cell_type": "markdown",
      "metadata": {
        "id": "7QLeCRMW24wy"
      },
      "source": [
        "# PART 3: Model Selection and Fitting to Data.\n",
        "Designing an unsupervised model that will group scholarly articles relating to vaccine. This model will help scientist to easily get articles that will aid their research of finding a more efficient vaccine that will flatten the curve of the pandemic.\n",
        "\n",
        "`KMeans` clustering will be used for grouping of the articles."
      ]
    },
    {
      "cell_type": "markdown",
      "metadata": {
        "id": "G_EMMAVkEAil"
      },
      "source": [
        "Gathering all research papers related to vaccine."
      ]
    },
    {
      "cell_type": "code",
      "metadata": {
        "id": "jzyMSIAwEZ_u"
      },
      "source": [
        "# creating keywords related to vaccine\n",
        "vaccine_keys = 'vaccine|therapeutic|prophylactic|' + pfizer_biontech_keys + '|' + moderna_keys + '|' + johnson_keys + '|' + astrazeneca_keys"
      ],
      "execution_count": 34,
      "outputs": []
    },
    {
      "cell_type": "code",
      "metadata": {
        "id": "fqkD__IE24Lu"
      },
      "source": [
        "vaccine_articles = df[df['lemmatized_abstract'].str.contains(vaccine_keys)]"
      ],
      "execution_count": 35,
      "outputs": []
    },
    {
      "cell_type": "markdown",
      "metadata": {
        "id": "CDN10-sZIRNe"
      },
      "source": [
        "Creating a TF-IDF feature for the vaccine-related articles and limiting the number of features created to the top `1000` features ordered by term frequency across the corpus."
      ]
    },
    {
      "cell_type": "code",
      "metadata": {
        "id": "eGd5NT_A1Hmg"
      },
      "source": [
        " # Applying Tf-idf Vectorizer\n",
        "vectorizer = TfidfVectorizer(max_features=1000)\n",
        "tfidf_feature = vectorizer.fit_transform(vaccine_articles['abstract'].values)"
      ],
      "execution_count": 36,
      "outputs": []
    },
    {
      "cell_type": "markdown",
      "metadata": {
        "id": "oB52Lfn_KZlx"
      },
      "source": [
        "Performing hyperparameter tuning on the `KMeans` model to see the number of clusters `K` that will efficiently group the articles.\n",
        "\n",
        "We choose the best number of clusters by calculating the sum of squared distances of samples to their closest cluster center. This metric measure can be obtained from the `.inertia_` attribute of the KMeans model.\n",
        "\n",
        "The ideal number of clusters would be choosing the number of clusters to be equal to the number of data points which will make the sum of squared distance into zero; however this doesn’t make any sense as we have as many clusters as the observations. Therefore, we need to use a method called `Elbow Method` for selecting the optimal number of clusters.\n",
        "\n",
        "The elbow method works by selecting a reasonable range of number of clusters then plotting it against the sum of squared distance for each K value."
      ]
    },
    {
      "cell_type": "code",
      "metadata": {
        "id": "h6X6L7SA9qIC"
      },
      "source": [
        "sum_squared_dist = []\n",
        "for i in range(1,10):\n",
        "    kmeans = KMeans(n_clusters=i, random_state=0, n_init=1)\n",
        "    kmeans.fit(tfidf_feature)\n",
        "    sum_squared_dist.append(kmeans.inertia_)"
      ],
      "execution_count": 37,
      "outputs": []
    },
    {
      "cell_type": "markdown",
      "metadata": {
        "id": "j38R7dERSpUJ"
      },
      "source": [
        "Plotting the elbow method graph."
      ]
    },
    {
      "cell_type": "code",
      "metadata": {
        "colab": {
          "base_uri": "https://localhost:8080/",
          "height": 298
        },
        "id": "rELuN1DR-lFB",
        "outputId": "0cdd5c6a-3526-4a52-ca40-e148896618f6"
      },
      "source": [
        "#Plot for the Elbow Method\n",
        "plt.plot(range(1,10), sum_squared_dist, marker='o')\n",
        "plt.title('The Elbow Method', fontsize=12)\n",
        "plt.xlabel('# of Clusters', fontsize=12)\n",
        "plt.ylabel('Sum of Squared Distance', fontsize=12)\n",
        "plt.show()"
      ],
      "execution_count": 38,
      "outputs": [
        {
          "output_type": "display_data",
          "data": {
            "image/png": "[encoded data removed]",
            "text/plain": [
              "<Figure size 432x288 with 1 Axes>"
            ]
          },
          "metadata": {
            "tags": [],
            "needs_background": "light"
          }
        }
      ]
    },
    {
      "cell_type": "markdown",
      "metadata": {
        "id": "-4NqyRk-uuL_"
      },
      "source": [
        "An optimal `K` value is selected when there is a small decrease in sum of squared distance per increase in number of clusters.\n",
        "From `The Elbow Method` graph above, the optimal number of clusters will be 4. This is because there's a reasonable drop in the distance metric from `K=1` to `K=4` and after 4, there is a small drop."
      ]
    },
    {
      "cell_type": "markdown",
      "metadata": {
        "id": "bHgYFzpVVLAt"
      },
      "source": [
        "Grouping the vaccine-related articles into four clusters."
      ]
    },
    {
      "cell_type": "code",
      "metadata": {
        "id": "Pyg02pTcutfv"
      },
      "source": [
        "kmeans_tfidf = KMeans(n_clusters=4, random_state=0, n_init=1)\n",
        "y_pred_tfidf = kmeans_tfidf.fit_predict(tfidf_feature)\n",
        "vaccine_articles['cluster_label'] = kmeans_tfidf.labels_"
      ],
      "execution_count": 39,
      "outputs": []
    },
    {
      "cell_type": "markdown",
      "metadata": {
        "id": "rEl2oaFEVsiN"
      },
      "source": [
        "Reducing the dimensionality of the TF-IDF features into 3 using Principal Component Analysis (PCA) just for visualization purpose."
      ]
    },
    {
      "cell_type": "code",
      "metadata": {
        "id": "27SctOmF_hoq"
      },
      "source": [
        "pca_tfidf = PCA(n_components=3)\n",
        "pca_tfidf_data = pca_tfidf.fit_transform(tfidf_feature.toarray())\n",
        "centroids_tfidf =  pca_tfidf.transform(kmeans_tfidf.cluster_centers_)"
      ],
      "execution_count": 40,
      "outputs": []
    },
    {
      "cell_type": "code",
      "metadata": {
        "colab": {
          "base_uri": "https://localhost:8080/",
          "height": 575
        },
        "id": "gT5GHNBC1t-y",
        "outputId": "0fec6d84-8370-4498-b259-98dc968d30ee"
      },
      "source": [
        "ax = plt.figure(figsize=(10,10)).gca(projection='3d')\n",
        "ax.view_init(10, 50)\n",
        "ax.scatter(xs=pca_tfidf_data[:,0], ys=pca_tfidf_data[:,1], zs=pca_tfidf_data[:,2], c=y_pred_tfidf)\n",
        "ax.set_xlabel('pca_1')\n",
        "ax.set_ylabel('pca_2')\n",
        "ax.set_zlabel('pca_3')\n",
        "plt.title('Clusters of Scholarly Articles related to Vaccine')\n",
        "plt.show()"
      ],
      "execution_count": 41,
      "outputs": [
        {
          "output_type": "display_data",
          "data": {
            "image/png": "[encoded data removed]",
            "text/plain": [
              "<Figure size 720x720 with 1 Axes>"
            ]
          },
          "metadata": {
            "tags": [],
            "needs_background": "light"
          }
        }
      ]
    },
    {
      "cell_type": "markdown",
      "metadata": {
        "id": "UmByBDhoWrM8"
      },
      "source": [
        "Number of articles in each cluster."
      ]
    },
    {
      "cell_type": "code",
      "metadata": {
        "colab": {
          "base_uri": "https://localhost:8080/"
        },
        "id": "m9nL3KSZ76hg",
        "outputId": "c2f2149e-534a-4c50-c195-a573b6ce32ae"
      },
      "source": [
        "vaccine_articles['cluster_label'].value_counts()"
      ],
      "execution_count": 42,
      "outputs": [
        {
          "output_type": "execute_result",
          "data": {
            "text/plain": [
              "2    16710\n",
              "3    14843\n",
              "0    12809\n",
              "1     9003\n",
              "Name: cluster_label, dtype: int64"
            ]
          },
          "metadata": {
            "tags": []
          },
          "execution_count": 42
        }
      ]
    },
    {
      "cell_type": "code",
      "metadata": {
        "id": "Okup0Fkx28M3"
      },
      "source": [
        "cluster_0 = vaccine_articles.loc[vaccine_articles['cluster_label']==0, 'lemmatized_abstract']\n",
        "cluster_1 = vaccine_articles.loc[vaccine_articles['cluster_label']==1, 'lemmatized_abstract']\n",
        "cluster_2 = vaccine_articles.loc[vaccine_articles['cluster_label']==2, 'lemmatized_abstract']\n",
        "cluster_3 = vaccine_articles.loc[vaccine_articles['cluster_label']==3, 'lemmatized_abstract']"
      ],
      "execution_count": 43,
      "outputs": []
    },
    {
      "cell_type": "code",
      "metadata": {
        "id": "HUnycsuF28Jn"
      },
      "source": [
        "vectorizers = []\n",
        "for _ in range(0, 4):\n",
        "    # Creating 4 tfidf vectorizers\n",
        "    vectorizers.append(TfidfVectorizer(max_features=1000))"
      ],
      "execution_count": 44,
      "outputs": []
    },
    {
      "cell_type": "code",
      "metadata": {
        "id": "pO27AnZQ28EW"
      },
      "source": [
        "cluster_0_tfidf = vectorizers[0].fit_transform(cluster_0.values)\n",
        "cluster_1_tfidf = vectorizers[1].fit_transform(cluster_1.values)\n",
        "cluster_2_tfidf = vectorizers[2].fit_transform(cluster_2.values)\n",
        "cluster_3_tfidf = vectorizers[3].fit_transform(cluster_3.values)"
      ],
      "execution_count": 45,
      "outputs": []
    },
    {
      "cell_type": "markdown",
      "metadata": {
        "id": "JS59FshDvCEv"
      },
      "source": [
        "With the separation of the articles into their respective clusters, we are going to use the `Latent Dirichlet Allocation (LDA)` for `Topic Modelling` for each clusters of scholarly articles.\n",
        "\n",
        "LDA is an unsupervised machine learning method that is specifically designed for topic modelling."
      ]
    },
    {
      "cell_type": "markdown",
      "metadata": {
        "id": "H7Wzi5R__5dh"
      },
      "source": [
        "Building LDA Models for the four clusters with `sklearn`. We are going to find the optimal number of topics for each cluster using `GridSearchCV`. Some default parameters have been set such as:\n",
        " - `random_state=0`: for consistency in result.\n",
        " - `n_jobs=-1`: to use all processors for computation.\n",
        " - `learning_method='online'`:  because of the large data size.\n",
        "\n",
        "Hyperparameters to be tuned for each model are:\n",
        " - `n_componenets`: number of topics. "
      ]
    },
    {
      "cell_type": "code",
      "metadata": {
        "id": "pzE3LClX27_W"
      },
      "source": [
        "# params = {'n_components': [1, 2, 3]}\n",
        "# best_models = dict()\n",
        "\n",
        "# for index, cluster_tfidf in enumerate([cluster_0_tfidf, cluster_1_tfidf, cluster_2_tfidf, cluster_3_tfidf]):\n",
        "#     # tuning the best lda model for each cluster\n",
        "#     lda = LatentDirichletAllocation(random_state=0, n_jobs=-1, learning_method='online')\n",
        "#     grid = GridSearchCV(lda, param_grid=params)\n",
        "#     grid.fit(cluster_tfidf)\n",
        "\n",
        "#     best_lda_model = grid.best_estimator_\n",
        "#     best_models['lda {}'.format(index)] = grid.best_params_"
      ],
      "execution_count": 125,
      "outputs": []
    },
    {
      "cell_type": "markdown",
      "metadata": {
        "id": "e_kuFI_t-tlj"
      },
      "source": [
        "The code in the cell above takes time to run, so after the optimal parameters have been obtained, the code was commented out.\n",
        "\n",
        "Creating the four LDA models with their optimal hyperparameters."
      ]
    },
    {
      "cell_type": "code",
      "metadata": {
        "colab": {
          "base_uri": "https://localhost:8080/"
        },
        "id": "uuN9eus5YwnG",
        "outputId": "7265011e-64b7-4f41-f116-b6bf9cea8fda"
      },
      "source": [
        "best_models"
      ],
      "execution_count": 126,
      "outputs": [
        {
          "output_type": "execute_result",
          "data": {
            "text/plain": [
              "{'lda 0': {'n_components': 1},\n",
              " 'lda 1': {'n_components': 1},\n",
              " 'lda 2': {'n_components': 1},\n",
              " 'lda 3': {'n_components': 1}}"
            ]
          },
          "metadata": {
            "tags": []
          },
          "execution_count": 126
        }
      ]
    },
    {
      "cell_type": "markdown",
      "metadata": {
        "id": "eo6andXiusLd"
      },
      "source": [
        "Since the optimal number of topics (`n_components`) for each cluster is 1, according to the hyperparameter tuning, four `LDA` models will be created for the four clusters setting `1` as the number of topics."
      ]
    },
    {
      "cell_type": "code",
      "metadata": {
        "id": "egXI-sc4_ENC"
      },
      "source": [
        "# creating the four lda models\n",
        "lda_models = []\n",
        "for _ in range(4):\n",
        "    # Latent Dirichlet Allocation Model\n",
        "    lda = LatentDirichletAllocation(n_components=1, learning_method='online', random_state=0, n_jobs = -1)\n",
        "    lda_models.append(lda)"
      ],
      "execution_count": 46,
      "outputs": []
    },
    {
      "cell_type": "code",
      "metadata": {
        "id": "XoM06PWC276b"
      },
      "source": [
        "lda_0_result = lda_models[0].fit_transform(cluster_0_tfidf)\n",
        "lda_1_result = lda_models[1].fit_transform(cluster_1_tfidf)\n",
        "lda_2_result = lda_models[2].fit_transform(cluster_2_tfidf)\n",
        "lda_3_result = lda_models[3].fit_transform(cluster_3_tfidf)"
      ],
      "execution_count": 47,
      "outputs": []
    },
    {
      "cell_type": "markdown",
      "metadata": {
        "id": "hzEmdsyTwd4E"
      },
      "source": [
        "Creating a function that will show the top 15 keywords in a topic for each cluster."
      ]
    },
    {
      "cell_type": "code",
      "metadata": {
        "id": "eccmY_zWwxPk"
      },
      "source": [
        "# funtin to show top 15 keywords for each topic\n",
        "def top_keywords(vectorizer, lda_model):\n",
        "    keywords = np.array(vectorizer.get_feature_names())\n",
        "    topic_keywords = []\n",
        "    for topic_weights in lda_model.components_:\n",
        "        top_keyword_locs = (-topic_weights).argsort()[:15]\n",
        "        topic_keywords.append(keywords.take(top_keyword_locs))\n",
        "    return topic_keywords"
      ],
      "execution_count": 48,
      "outputs": []
    },
    {
      "cell_type": "markdown",
      "metadata": {
        "id": "Z2NwzW97Vzgo"
      },
      "source": [
        "#### Topic for Cluster 0"
      ]
    },
    {
      "cell_type": "code",
      "metadata": {
        "colab": {
          "base_uri": "https://localhost:8080/",
          "height": 80
        },
        "id": "uwDBr3reFh1F",
        "outputId": "5a830780-66fc-4077-a838-51c3f31fba37"
      },
      "source": [
        "cluster0_topic_keywords = top_keywords(vectorizers[0], lda_models[0])        \n",
        "\n",
        "# Topic - Keywords Dataframe\n",
        "df_topic_keywords = pd.DataFrame(cluster0_topic_keywords)\n",
        "df_topic_keywords.columns = ['Word '+str(i) for i in range(df_topic_keywords.shape[1])]\n",
        "df_topic_keywords.index = ['Topic '+str(i) for i in range(df_topic_keywords.shape[0])]\n",
        "df_topic_keywords"
      ],
      "execution_count": 49,
      "outputs": [
        {
          "output_type": "execute_result",
          "data": {
            "text/html": [
              "<div>\n",
              "<style scoped>\n",
              "    .dataframe tbody tr th:only-of-type {\n",
              "        vertical-align: middle;\n",
              "    }\n",
              "\n",
              "    .dataframe tbody tr th {\n",
              "        vertical-align: top;\n",
              "    }\n",
              "\n",
              "    .dataframe thead th {\n",
              "        text-align: right;\n",
              "    }\n",
              "</style>\n",
              "<table border=\"1\" class=\"dataframe\">\n",
              "  <thead>\n",
              "    <tr style=\"text-align: right;\">\n",
              "      <th></th>\n",
              "      <th>Word 0</th>\n",
              "      <th>Word 1</th>\n",
              "      <th>Word 2</th>\n",
              "      <th>Word 3</th>\n",
              "      <th>Word 4</th>\n",
              "      <th>Word 5</th>\n",
              "      <th>Word 6</th>\n",
              "      <th>Word 7</th>\n",
              "      <th>Word 8</th>\n",
              "      <th>Word 9</th>\n",
              "      <th>Word 10</th>\n",
              "      <th>Word 11</th>\n",
              "      <th>Word 12</th>\n",
              "      <th>Word 13</th>\n",
              "      <th>Word 14</th>\n",
              "    </tr>\n",
              "  </thead>\n",
              "  <tbody>\n",
              "    <tr>\n",
              "      <th>Topic 0</th>\n",
              "      <td>patient</td>\n",
              "      <td>covid19</td>\n",
              "      <td>disease</td>\n",
              "      <td>group</td>\n",
              "      <td>study</td>\n",
              "      <td>severe</td>\n",
              "      <td>clinical</td>\n",
              "      <td>severity</td>\n",
              "      <td>ci</td>\n",
              "      <td>95</td>\n",
              "      <td>case</td>\n",
              "      <td>mortality</td>\n",
              "      <td>risk</td>\n",
              "      <td>infection</td>\n",
              "      <td>symptom</td>\n",
              "    </tr>\n",
              "  </tbody>\n",
              "</table>\n",
              "</div>"
            ],
            "text/plain": [
              "          Word 0   Word 1   Word 2  ... Word 12    Word 13  Word 14\n",
              "Topic 0  patient  covid19  disease  ...    risk  infection  symptom\n",
              "\n",
              "[1 rows x 15 columns]"
            ]
          },
          "metadata": {
            "tags": []
          },
          "execution_count": 49
        }
      ]
    },
    {
      "cell_type": "markdown",
      "metadata": {
        "id": "ZjSZSXfRP9wD"
      },
      "source": [
        "\n",
        "The distinc topic keywords in relation to other clusters are `severe`, `mortality` and `risk`. Cluster 0 holds research papers that would be useful if a scientist wants to do a research on the vaccine based on the severity of the virus."
      ]
    },
    {
      "cell_type": "markdown",
      "metadata": {
        "id": "XMvg7TWd0Gga"
      },
      "source": [
        "#### Topic for Cluster 1"
      ]
    },
    {
      "cell_type": "code",
      "metadata": {
        "colab": {
          "base_uri": "https://localhost:8080/",
          "height": 80
        },
        "id": "1CWrc01WyJ5_",
        "outputId": "3b04858a-1344-43e0-8262-2b12e0a8bea5"
      },
      "source": [
        "cluster1_topic_keywords = top_keywords(vectorizers[1], lda_models[1])        \n",
        "\n",
        "# Topic - Keywords Dataframe\n",
        "df_topic_keywords = pd.DataFrame(cluster1_topic_keywords)\n",
        "df_topic_keywords.columns = ['Word '+str(i) for i in range(df_topic_keywords.shape[1])]\n",
        "df_topic_keywords.index = ['Topic '+str(i) for i in range(df_topic_keywords.shape[0])]\n",
        "df_topic_keywords"
      ],
      "execution_count": 50,
      "outputs": [
        {
          "output_type": "execute_result",
          "data": {
            "text/html": [
              "<div>\n",
              "<style scoped>\n",
              "    .dataframe tbody tr th:only-of-type {\n",
              "        vertical-align: middle;\n",
              "    }\n",
              "\n",
              "    .dataframe tbody tr th {\n",
              "        vertical-align: top;\n",
              "    }\n",
              "\n",
              "    .dataframe thead th {\n",
              "        text-align: right;\n",
              "    }\n",
              "</style>\n",
              "<table border=\"1\" class=\"dataframe\">\n",
              "  <thead>\n",
              "    <tr style=\"text-align: right;\">\n",
              "      <th></th>\n",
              "      <th>Word 0</th>\n",
              "      <th>Word 1</th>\n",
              "      <th>Word 2</th>\n",
              "      <th>Word 3</th>\n",
              "      <th>Word 4</th>\n",
              "      <th>Word 5</th>\n",
              "      <th>Word 6</th>\n",
              "      <th>Word 7</th>\n",
              "      <th>Word 8</th>\n",
              "      <th>Word 9</th>\n",
              "      <th>Word 10</th>\n",
              "      <th>Word 11</th>\n",
              "      <th>Word 12</th>\n",
              "      <th>Word 13</th>\n",
              "      <th>Word 14</th>\n",
              "    </tr>\n",
              "  </thead>\n",
              "  <tbody>\n",
              "    <tr>\n",
              "      <th>Topic 0</th>\n",
              "      <td>sarscov2</td>\n",
              "      <td>covid19</td>\n",
              "      <td>protein</td>\n",
              "      <td>vaccine</td>\n",
              "      <td>infection</td>\n",
              "      <td>cell</td>\n",
              "      <td>coronavirus</td>\n",
              "      <td>drug</td>\n",
              "      <td>antibody</td>\n",
              "      <td>virus</td>\n",
              "      <td>disease</td>\n",
              "      <td>viral</td>\n",
              "      <td>respiratory</td>\n",
              "      <td>response</td>\n",
              "      <td>patient</td>\n",
              "    </tr>\n",
              "  </tbody>\n",
              "</table>\n",
              "</div>"
            ],
            "text/plain": [
              "           Word 0   Word 1   Word 2  ...      Word 12   Word 13  Word 14\n",
              "Topic 0  sarscov2  covid19  protein  ...  respiratory  response  patient\n",
              "\n",
              "[1 rows x 15 columns]"
            ]
          },
          "metadata": {
            "tags": []
          },
          "execution_count": 50
        }
      ]
    },
    {
      "cell_type": "markdown",
      "metadata": {
        "id": "RGt9KiGiRs-8"
      },
      "source": [
        "According to the topic keywords in cluster 1, the articles in this cluster will be useful for studies that are related to how the coronavirus propagates through the cell of humans and roles played by the antibodies."
      ]
    },
    {
      "cell_type": "markdown",
      "metadata": {
        "id": "jpIuSzx00Izq"
      },
      "source": [
        "#### Topic for Cluster 2"
      ]
    },
    {
      "cell_type": "code",
      "metadata": {
        "colab": {
          "base_uri": "https://localhost:8080/",
          "height": 80
        },
        "id": "7MiX-YFfyJTE",
        "outputId": "25ff4f3b-93b3-47fc-cafc-8d2f42d4009c"
      },
      "source": [
        "cluster2_topic_keywords = top_keywords(vectorizers[2], lda_models[2])        \n",
        "\n",
        "# Topic - Keywords Dataframe\n",
        "df_topic_keywords = pd.DataFrame(cluster2_topic_keywords)\n",
        "df_topic_keywords.columns = ['Word '+str(i) for i in range(df_topic_keywords.shape[1])]\n",
        "df_topic_keywords.index = ['Topic '+str(i) for i in range(df_topic_keywords.shape[0])]\n",
        "df_topic_keywords"
      ],
      "execution_count": 51,
      "outputs": [
        {
          "output_type": "execute_result",
          "data": {
            "text/html": [
              "<div>\n",
              "<style scoped>\n",
              "    .dataframe tbody tr th:only-of-type {\n",
              "        vertical-align: middle;\n",
              "    }\n",
              "\n",
              "    .dataframe tbody tr th {\n",
              "        vertical-align: top;\n",
              "    }\n",
              "\n",
              "    .dataframe thead th {\n",
              "        text-align: right;\n",
              "    }\n",
              "</style>\n",
              "<table border=\"1\" class=\"dataframe\">\n",
              "  <thead>\n",
              "    <tr style=\"text-align: right;\">\n",
              "      <th></th>\n",
              "      <th>Word 0</th>\n",
              "      <th>Word 1</th>\n",
              "      <th>Word 2</th>\n",
              "      <th>Word 3</th>\n",
              "      <th>Word 4</th>\n",
              "      <th>Word 5</th>\n",
              "      <th>Word 6</th>\n",
              "      <th>Word 7</th>\n",
              "      <th>Word 8</th>\n",
              "      <th>Word 9</th>\n",
              "      <th>Word 10</th>\n",
              "      <th>Word 11</th>\n",
              "      <th>Word 12</th>\n",
              "      <th>Word 13</th>\n",
              "      <th>Word 14</th>\n",
              "    </tr>\n",
              "  </thead>\n",
              "  <tbody>\n",
              "    <tr>\n",
              "      <th>Topic 0</th>\n",
              "      <td>vaccine</td>\n",
              "      <td>virus</td>\n",
              "      <td>cell</td>\n",
              "      <td>infection</td>\n",
              "      <td>disease</td>\n",
              "      <td>viral</td>\n",
              "      <td>protein</td>\n",
              "      <td>response</td>\n",
              "      <td>influenza</td>\n",
              "      <td>therapeutic</td>\n",
              "      <td>study</td>\n",
              "      <td>human</td>\n",
              "      <td>immune</td>\n",
              "      <td>antibody</td>\n",
              "      <td>treatment</td>\n",
              "    </tr>\n",
              "  </tbody>\n",
              "</table>\n",
              "</div>"
            ],
            "text/plain": [
              "          Word 0 Word 1 Word 2     Word 3  ... Word 11 Word 12   Word 13    Word 14\n",
              "Topic 0  vaccine  virus   cell  infection  ...   human  immune  antibody  treatment\n",
              "\n",
              "[1 rows x 15 columns]"
            ]
          },
          "metadata": {
            "tags": []
          },
          "execution_count": 51
        }
      ]
    },
    {
      "cell_type": "markdown",
      "metadata": {
        "id": "qaLbs64qUBmQ"
      },
      "source": [
        "The top topic keywords in cluster 2 are `vaccine` and `virus`. This cluster has a perfect collection of articles that directly talks about the vaccine and the virus."
      ]
    },
    {
      "cell_type": "markdown",
      "metadata": {
        "id": "5ANZgzHj0Ksr"
      },
      "source": [
        "#### Topic for Cluster 3"
      ]
    },
    {
      "cell_type": "code",
      "metadata": {
        "colab": {
          "base_uri": "https://localhost:8080/",
          "height": 80
        },
        "id": "KBOFtFHayJPT",
        "outputId": "1f61b4dd-ac98-44e4-f65b-d270c515bc4d"
      },
      "source": [
        "cluster3_topic_keywords = top_keywords(vectorizers[3], lda_models[3])        \n",
        "\n",
        "# Topic - Keywords Dataframe\n",
        "df_topic_keywords = pd.DataFrame(cluster3_topic_keywords)\n",
        "df_topic_keywords.columns = ['Word '+str(i) for i in range(df_topic_keywords.shape[1])]\n",
        "df_topic_keywords.index = ['Topic '+str(i) for i in range(df_topic_keywords.shape[0])]\n",
        "df_topic_keywords"
      ],
      "execution_count": 52,
      "outputs": [
        {
          "output_type": "execute_result",
          "data": {
            "text/html": [
              "<div>\n",
              "<style scoped>\n",
              "    .dataframe tbody tr th:only-of-type {\n",
              "        vertical-align: middle;\n",
              "    }\n",
              "\n",
              "    .dataframe tbody tr th {\n",
              "        vertical-align: top;\n",
              "    }\n",
              "\n",
              "    .dataframe thead th {\n",
              "        text-align: right;\n",
              "    }\n",
              "</style>\n",
              "<table border=\"1\" class=\"dataframe\">\n",
              "  <thead>\n",
              "    <tr style=\"text-align: right;\">\n",
              "      <th></th>\n",
              "      <th>Word 0</th>\n",
              "      <th>Word 1</th>\n",
              "      <th>Word 2</th>\n",
              "      <th>Word 3</th>\n",
              "      <th>Word 4</th>\n",
              "      <th>Word 5</th>\n",
              "      <th>Word 6</th>\n",
              "      <th>Word 7</th>\n",
              "      <th>Word 8</th>\n",
              "      <th>Word 9</th>\n",
              "      <th>Word 10</th>\n",
              "      <th>Word 11</th>\n",
              "      <th>Word 12</th>\n",
              "      <th>Word 13</th>\n",
              "      <th>Word 14</th>\n",
              "    </tr>\n",
              "  </thead>\n",
              "  <tbody>\n",
              "    <tr>\n",
              "      <th>Topic 0</th>\n",
              "      <td>covid19</td>\n",
              "      <td>patient</td>\n",
              "      <td>disease</td>\n",
              "      <td>vaccine</td>\n",
              "      <td>pandemic</td>\n",
              "      <td>health</td>\n",
              "      <td>treatment</td>\n",
              "      <td>infection</td>\n",
              "      <td>study</td>\n",
              "      <td>clinical</td>\n",
              "      <td>coronavirus</td>\n",
              "      <td>case</td>\n",
              "      <td>sarscov2</td>\n",
              "      <td>drug</td>\n",
              "      <td>therapeutic</td>\n",
              "    </tr>\n",
              "  </tbody>\n",
              "</table>\n",
              "</div>"
            ],
            "text/plain": [
              "          Word 0   Word 1   Word 2  ...   Word 12 Word 13      Word 14\n",
              "Topic 0  covid19  patient  disease  ...  sarscov2    drug  therapeutic\n",
              "\n",
              "[1 rows x 15 columns]"
            ]
          },
          "metadata": {
            "tags": []
          },
          "execution_count": 52
        }
      ]
    },
    {
      "cell_type": "markdown",
      "metadata": {
        "id": "2NmpKYz6VAqG"
      },
      "source": [
        "This cluster contains keywords relating to the different approach that have been explored to treat patients of the COVID-19."
      ]
    },
    {
      "cell_type": "markdown",
      "metadata": {
        "id": "-Q7kwJggZkLB"
      },
      "source": [
        "# PART 4: Deriving Insights about Policy and Guidance to tackle the Outbreak based on Model Findings."
      ]
    },
    {
      "cell_type": "markdown",
      "metadata": {
        "id": "tfgBF4oeanhV"
      },
      "source": [
        "From the exploration conducted on the research articles, it was observed that  the COVID-19 (SARS-CoV-2) strain is different from the other strains that are deadly to humans. Symptoms like discharge, anxiety and depression are common with COVID-19 but cold is not that common compared to the other two strains.\n",
        "\n",
        "Also, the AstraZeneca vaccine has more occurrence with the three strains of covid 19 and also popular among the top countries that responded well to the pandemic.\n",
        "\n",
        "Based on the high co-occurrence of AstraZeneca vaccine with the two previous strains of coronavirus in same article, it shows that the deadly strain of the coronavirus was put into consideration while creating the vaccine not considering the fact that COVID-19 is different. This might be the reason for the 70% effectiveness of the Astrazeneca vaccine.\n",
        "\n",
        "To help improve the vaccination effort, an unsupervised machine learning model was built using KMeans algorithm has been designed to cluster vaccine-related articles and Latent Dirichlet was used for the topic modelling for each clusters. The model will allow scientist to easily get vaccine-related articles that are significant to their study of creation of a more effective vaccine either revisit the creation of AstraZeneca vaccine considering only the COVID-19 strain of the coronavirus or to explore other potential vaccine like the Moderna, Pfizer and Moderna vaccine.\n",
        "\n",
        "Recommendation for our healthcare system is to revisit the creation of new vaccine putting into consideration only the COVID-19 strain or to explore the already existing vaccine like the Moderna, Pfizer and Johnson & Johnson Vaccine.\n"
      ]
    }
  ]
}